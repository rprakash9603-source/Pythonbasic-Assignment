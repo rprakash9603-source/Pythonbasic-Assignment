{
  "nbformat": 4,
  "nbformat_minor": 0,
  "metadata": {
    "colab": {
      "provenance": []
    },
    "kernelspec": {
      "name": "python3",
      "display_name": "Python 3"
    },
    "language_info": {
      "name": "python"
    }
  },
  "cells": [
    {
      "cell_type": "markdown",
      "source": [
        "1. What is Python, and why is it popular?\n",
        "  - Python is a high-level, interpreted programming language and Python is also simplicity and readability, which makes it one of the easiest programming languages to learn and use.\n",
        "  - Key features of Python: High-level, Interpreted, Dynamically typed and Versatile\n",
        "\n",
        "  - Here are the main reasons why Python is Popular:\n",
        "  a). Easy and Interpretable\n",
        "  b). Extensive libraries and frameworks: Libraries like NumPy, Pandas, TensorFlow, Django, Flask make it easier to do everything from data analysis to web development.\n",
        "  c). Large community support\n",
        "  d). Open-source and free: Python is freely available and has a strong open-source ecosystem.\n",
        "  e). Versatility: Used in web development, data science, artificial intelligence, machine learning, automation, cybersecurity, and more."
      ],
      "metadata": {
        "id": "qoZ9FSn3nYsY"
      }
    },
    {
      "cell_type": "markdown",
      "source": [
        "2. What is an interpreter in Python?\n",
        " - An interpreter in Python is a program that executes Python code line by line.\n",
        " a) When you write Python code (.py file), it isn’t directly understood by your computer’s processor.\n",
        " b) The Python interpreter converts your Python code into a lower-level form (bytecode) and then executes it.\n",
        " - Python Interpreter Works:\n",
        " a) Read your code.\n",
        " b) Parse and convert it into bytecode (a low-level intermediate form).\n",
        " c) The Python Virtual Machine (PVM) executes the bytecode line by line.\n"
      ],
      "metadata": {
        "id": "j32rBYoGp7pI"
      }
    },
    {
      "cell_type": "markdown",
      "source": [
        "3. What are pre-defined keywords in Python?\n",
        "- Pre-defined keywords in Python are special reserved words with fixed meanings that tell Python how to run your code, and you can not use them for anything else. For Examples: if, else, while, for, class, True, False, None"
      ],
      "metadata": {
        "id": "Ja8nq_Ldr1KG"
      }
    },
    {
      "cell_type": "markdown",
      "source": [
        "4. Can keywords be used as variable names?\n",
        "  - Python keywords cannot be used as variable names because they have fixed meanings in the language. For Expample:"
      ],
      "metadata": {
        "id": "xwsgfXi3s7qJ"
      }
    },
    {
      "cell_type": "code",
      "source": [
        "if = 5   # ❌ This is invalid — 'if' is a keyword"
      ],
      "metadata": {
        "colab": {
          "base_uri": "https://localhost:8080/",
          "height": 106
        },
        "id": "xolWdwXEtj2l",
        "outputId": "3bf492e4-6e57-45d4-d83f-6207f5907668"
      },
      "execution_count": null,
      "outputs": [
        {
          "output_type": "error",
          "ename": "SyntaxError",
          "evalue": "invalid syntax (ipython-input-2205135214.py, line 1)",
          "traceback": [
            "\u001b[0;36m  File \u001b[0;32m\"/tmp/ipython-input-2205135214.py\"\u001b[0;36m, line \u001b[0;32m1\u001b[0m\n\u001b[0;31m    if = 5   # ❌ This is invalid — 'if' is a keyword\u001b[0m\n\u001b[0m       ^\u001b[0m\n\u001b[0;31mSyntaxError\u001b[0m\u001b[0;31m:\u001b[0m invalid syntax\n"
          ]
        }
      ]
    },
    {
      "cell_type": "code",
      "source": [
        "number_if = 5  # valid variable name"
      ],
      "metadata": {
        "id": "ENIuS-K4turO"
      },
      "execution_count": null,
      "outputs": []
    },
    {
      "cell_type": "markdown",
      "source": [
        "5. What is mutability in Python?\n",
        "  - Mutability in Python means whether you can change an objects contents after it is created — lists are mutable, strings are not.\n",
        "  - Examples in Python:\n",
        "  Mutable objects (can change):\n",
        "  Lists (list); Dictionaries (dict); Sets (set)"
      ],
      "metadata": {
        "id": "Us2pCdMetzko"
      }
    },
    {
      "cell_type": "code",
      "source": [
        "my_list = [1, 2, 3]\n",
        "my_list[0] = 99  # You can change it\n",
        "print(my_list)"
      ],
      "metadata": {
        "colab": {
          "base_uri": "https://localhost:8080/"
        },
        "id": "mmOPKi4bu-XR",
        "outputId": "24d8268a-5977-4cd1-b414-eb46125e991e"
      },
      "execution_count": null,
      "outputs": [
        {
          "output_type": "stream",
          "name": "stdout",
          "text": [
            "[99, 2, 3]\n"
          ]
        }
      ]
    },
    {
      "cell_type": "markdown",
      "source": [
        "6. Why are lists mutable, but tuples are immutable?\n",
        "   - Lists are meant to be flexible containers. You often add, remove, or modify items in a list and Tuples are meant to be fixed collections of items, like a record. Once created, they should not change."
      ],
      "metadata": {
        "id": "0TEMwGSqvRxY"
      }
    },
    {
      "cell_type": "code",
      "source": [
        "my_list = [1, 2, 3]\n",
        "my_list[0] = 99\n",
        "my_list.append(4)\n",
        "print(my_list) # You changed the same list object in memory."
      ],
      "metadata": {
        "colab": {
          "base_uri": "https://localhost:8080/"
        },
        "id": "zxMg0mRAwI50",
        "outputId": "cfdc4b39-524f-4fbf-ab08-edb84afd5cb0"
      },
      "execution_count": null,
      "outputs": [
        {
          "output_type": "stream",
          "name": "stdout",
          "text": [
            "[99, 2, 3, 4]\n"
          ]
        }
      ]
    },
    {
      "cell_type": "code",
      "source": [
        "my_tuple = (1, 2, 3)\n",
        "my_tuple[0] = 99  # Error: 'tuple' object does not support item assignment"
      ],
      "metadata": {
        "colab": {
          "base_uri": "https://localhost:8080/",
          "height": 158
        },
        "id": "hRGqbh-ZwXGJ",
        "outputId": "eb7afdee-03ce-4824-f712-3423c40abb21"
      },
      "execution_count": null,
      "outputs": [
        {
          "output_type": "error",
          "ename": "TypeError",
          "evalue": "'tuple' object does not support item assignment",
          "traceback": [
            "\u001b[0;31m---------------------------------------------------------------------------\u001b[0m",
            "\u001b[0;31mTypeError\u001b[0m                                 Traceback (most recent call last)",
            "\u001b[0;32m/tmp/ipython-input-570094898.py\u001b[0m in \u001b[0;36m<cell line: 0>\u001b[0;34m()\u001b[0m\n\u001b[1;32m      1\u001b[0m \u001b[0mmy_tuple\u001b[0m \u001b[0;34m=\u001b[0m \u001b[0;34m(\u001b[0m\u001b[0;36m1\u001b[0m\u001b[0;34m,\u001b[0m \u001b[0;36m2\u001b[0m\u001b[0;34m,\u001b[0m \u001b[0;36m3\u001b[0m\u001b[0;34m)\u001b[0m\u001b[0;34m\u001b[0m\u001b[0;34m\u001b[0m\u001b[0m\n\u001b[0;32m----> 2\u001b[0;31m \u001b[0mmy_tuple\u001b[0m\u001b[0;34m[\u001b[0m\u001b[0;36m0\u001b[0m\u001b[0;34m]\u001b[0m \u001b[0;34m=\u001b[0m \u001b[0;36m99\u001b[0m  \u001b[0;31m# Error: 'tuple' object does not support item assignment\u001b[0m\u001b[0;34m\u001b[0m\u001b[0;34m\u001b[0m\u001b[0m\n\u001b[0m",
            "\u001b[0;31mTypeError\u001b[0m: 'tuple' object does not support item assignment"
          ]
        }
      ]
    },
    {
      "cell_type": "markdown",
      "source": [
        "7. What is the difference between “==” and “is” operators in Python?\n",
        "  - Equality Operator (==): Checks if the values are the same (equal in content).\n"
      ],
      "metadata": {
        "id": "zZSllWapwj22"
      }
    },
    {
      "cell_type": "code",
      "source": [
        "X = [1, 2, 3]\n",
        "Y = [1, 2, 3]\n",
        "\n",
        "print(X == Y)  # True (same contents)"
      ],
      "metadata": {
        "colab": {
          "base_uri": "https://localhost:8080/"
        },
        "id": "0rQc4zWpxLWR",
        "outputId": "c7b0ee78-ffc3-4093-e92d-bd96a4f942f4"
      },
      "execution_count": null,
      "outputs": [
        {
          "output_type": "stream",
          "name": "stdout",
          "text": [
            "True\n"
          ]
        }
      ]
    },
    {
      "cell_type": "markdown",
      "source": [
        "  - Identity Operator (is): Checks if two variables point to the same object in memory (same identity)."
      ],
      "metadata": {
        "id": "6_I2TKARxOe7"
      }
    },
    {
      "cell_type": "code",
      "source": [
        "X = [1, 2, 3]\n",
        "Y = [1, 2, 3]\n",
        "\n",
        "print(X is Y)  # False (different objects in memory)"
      ],
      "metadata": {
        "colab": {
          "base_uri": "https://localhost:8080/"
        },
        "id": "TtiYa2sqxlCP",
        "outputId": "81c5eefa-7cba-49d3-8123-9fe459e82929"
      },
      "execution_count": null,
      "outputs": [
        {
          "output_type": "stream",
          "name": "stdout",
          "text": [
            "False\n"
          ]
        }
      ]
    },
    {
      "cell_type": "markdown",
      "source": [
        "8. What are logical operators in Python?\n",
        "  - Logical operators are used to combine conditions (True/False values) and decide whether something is True or False overall. Python has three logical operators: AND, OR and NOT"
      ],
      "metadata": {
        "id": "nhzLnMYqx9Kg"
      }
    },
    {
      "cell_type": "code",
      "source": [
        "# and\n",
        "a = 7\n",
        "print(a > 5 and a < 10)  # True (both conditions True)"
      ],
      "metadata": {
        "colab": {
          "base_uri": "https://localhost:8080/"
        },
        "id": "Wf-0W9U-zMp5",
        "outputId": "648d419c-b9bd-4d1b-d39d-21b09dd9f73e"
      },
      "execution_count": null,
      "outputs": [
        {
          "output_type": "stream",
          "name": "stdout",
          "text": [
            "True\n"
          ]
        }
      ]
    },
    {
      "cell_type": "code",
      "source": [
        "# or\n",
        "a = 3\n",
        "print(a > 5 or a == 3)  # True (second condition True)"
      ],
      "metadata": {
        "colab": {
          "base_uri": "https://localhost:8080/"
        },
        "id": "0K61JTGxzdQI",
        "outputId": "fa13c904-fd1e-4b1c-9cd3-2999ae9f7e27"
      },
      "execution_count": null,
      "outputs": [
        {
          "output_type": "stream",
          "name": "stdout",
          "text": [
            "True\n"
          ]
        }
      ]
    },
    {
      "cell_type": "code",
      "source": [
        "# not\n",
        "a = 5\n",
        "print(not a > 5)  # True (because x > 5 is False)"
      ],
      "metadata": {
        "colab": {
          "base_uri": "https://localhost:8080/"
        },
        "id": "WGL_WJG4ztWm",
        "outputId": "7c5e834a-99f4-461b-80ca-621dbf93c0fd"
      },
      "execution_count": null,
      "outputs": [
        {
          "output_type": "stream",
          "name": "stdout",
          "text": [
            "True\n"
          ]
        }
      ]
    },
    {
      "cell_type": "markdown",
      "source": [
        "9. What is type casting in Python?\n",
        "  - Type casting means changing the data type of a value or variable into another type and In Python you can convert (or “cast”) numbers to strings, strings to numbers, etc., using built-in functions.\n",
        "  - Two Types of Casting: Implicit Type Casting (Type Conversion) and Explicit Type Casting (Type Casting by You)\n",
        "  - Implicit Type Casting (Type Conversion): Python automatically converts one type to another when it’s safe and This usually happens with numbers.\n",
        "  - Explicit Type Casting (Type Casting by You): You manually convert from one type to another using functions like int(), float(), str(), etc.\n"
      ],
      "metadata": {
        "id": "2g_lxi0N0Mzq"
      }
    },
    {
      "cell_type": "code",
      "source": [
        "# Implicit Type Casting\n",
        "\n",
        "a = 5      # int\n",
        "b = 2.5    # float\n",
        "c = a + b  # Python converts int → float automatically\n",
        "print(c)   # 7.5 (float)"
      ],
      "metadata": {
        "colab": {
          "base_uri": "https://localhost:8080/"
        },
        "id": "CtGNjlqw2B1Y",
        "outputId": "b0158e2f-099b-476e-fe70-fcd4a95f15a5"
      },
      "execution_count": null,
      "outputs": [
        {
          "output_type": "stream",
          "name": "stdout",
          "text": [
            "7.5\n"
          ]
        }
      ]
    },
    {
      "cell_type": "code",
      "source": [
        "# Explicit Type Casting\n",
        "# String to int\n",
        "a = \"10\"\n",
        "b = int(a)\n",
        "print(b + 5)  # 15 (now an integer)"
      ],
      "metadata": {
        "colab": {
          "base_uri": "https://localhost:8080/"
        },
        "id": "LUikKU9V3ISh",
        "outputId": "1611685a-55a8-4ad5-cba2-474009b6051a"
      },
      "execution_count": null,
      "outputs": [
        {
          "output_type": "stream",
          "name": "stdout",
          "text": [
            "15\n"
          ]
        }
      ]
    },
    {
      "cell_type": "code",
      "source": [
        "# Int to float\n",
        "a = 7\n",
        "b = float(a)\n",
        "print(b)  # 7.0 (now a float)"
      ],
      "metadata": {
        "colab": {
          "base_uri": "https://localhost:8080/"
        },
        "id": "qG2fxL9_3nfd",
        "outputId": "2f8e1669-3a45-444f-8ee0-038496e4316b"
      },
      "execution_count": null,
      "outputs": [
        {
          "output_type": "stream",
          "name": "stdout",
          "text": [
            "7.0\n"
          ]
        }
      ]
    },
    {
      "cell_type": "code",
      "source": [
        "# Number to string\n",
        "num = 100\n",
        "text = str(num)\n",
        "print(text + \" Banana\")  # \"100 Banana\""
      ],
      "metadata": {
        "colab": {
          "base_uri": "https://localhost:8080/"
        },
        "id": "zEJnmrS03ssD",
        "outputId": "69490edb-62ae-46a4-e08d-a76396c72f0d"
      },
      "execution_count": null,
      "outputs": [
        {
          "output_type": "stream",
          "name": "stdout",
          "text": [
            "100 Banana\n"
          ]
        }
      ]
    },
    {
      "cell_type": "markdown",
      "source": [
        "10. What is the difference between implicit and explicit type casting?\n",
        "  - Implicit casting = Python automatically converts types for you. Explicit casting = you manually convert types using functions like int() or float().\n",
        "  "
      ],
      "metadata": {
        "id": "d3vFYyY-36GW"
      }
    },
    {
      "cell_type": "code",
      "source": [
        "# Implicit Type Casting\n",
        "\n",
        "a = 5      # int\n",
        "b = 2.5    # float\n",
        "c = a + b  # Python converts int → float automatically\n",
        "print(c)   # 7.5 (float)"
      ],
      "metadata": {
        "colab": {
          "base_uri": "https://localhost:8080/"
        },
        "id": "iSLc-8FG4X3p",
        "outputId": "a88f8bbb-32fd-48e2-b6fc-831f07ddf711"
      },
      "execution_count": null,
      "outputs": [
        {
          "output_type": "stream",
          "name": "stdout",
          "text": [
            "7.5\n"
          ]
        }
      ]
    },
    {
      "cell_type": "code",
      "source": [
        "# Explicit Type Casting\n",
        "# String to int\n",
        "a = \"10\"\n",
        "b = int(a)\n",
        "print(b + 5)  # 15 (now an integer)"
      ],
      "metadata": {
        "colab": {
          "base_uri": "https://localhost:8080/"
        },
        "id": "bvEwUUeV4exj",
        "outputId": "a4ed8359-2007-4dd7-f389-198364f76d1a"
      },
      "execution_count": null,
      "outputs": [
        {
          "output_type": "stream",
          "name": "stdout",
          "text": [
            "15\n"
          ]
        }
      ]
    },
    {
      "cell_type": "markdown",
      "source": [
        "11. What is the purpose of conditional statements in Python?\n",
        "  - Conditional statements in Python allow your program to make decisions and run different code depending on whether conditions are True or False.\n",
        "\n",
        "  - Main Conditional Statements in Python\n",
        "  - if – checks a condition, runs code if True.\n",
        "  - elif – checks another condition if the first one was False.\n",
        "  - else – runs code if none of the above conditions are True."
      ],
      "metadata": {
        "id": "8NhWAEgW46wK"
      }
    },
    {
      "cell_type": "code",
      "source": [
        "age = 18\n",
        "\n",
        "if age >= 18:\n",
        "    print(\"You can vote.\")   # runs if condition True\n",
        "elif age == 17:\n",
        "    print(\"You can register soon.\")  # runs if first False, this True\n",
        "else:\n",
        "    print(\"You are too young to vote.\")  # runs if all conditions False"
      ],
      "metadata": {
        "colab": {
          "base_uri": "https://localhost:8080/"
        },
        "id": "zU7LVYmb5WHj",
        "outputId": "3cc9aeeb-b552-4a0b-efee-df86cb6a59fe"
      },
      "execution_count": null,
      "outputs": [
        {
          "output_type": "stream",
          "name": "stdout",
          "text": [
            "You can vote.\n"
          ]
        }
      ]
    },
    {
      "cell_type": "code",
      "source": [
        "age = 16\n",
        "\n",
        "if age >= 18:\n",
        "    print(\"You can vote.\")   # runs if condition True\n",
        "elif age == 17:\n",
        "    print(\"You can register soon.\")  # runs if first False, this True\n",
        "else:\n",
        "    print(\"You are too young to vote.\")  # runs if all conditions False"
      ],
      "metadata": {
        "colab": {
          "base_uri": "https://localhost:8080/"
        },
        "id": "MmK7b41J5jI4",
        "outputId": "156eaef2-9b7d-44fa-cefa-52aeb6d51e54"
      },
      "execution_count": null,
      "outputs": [
        {
          "output_type": "stream",
          "name": "stdout",
          "text": [
            "You are too young to vote.\n"
          ]
        }
      ]
    },
    {
      "cell_type": "code",
      "source": [
        "age = 17\n",
        "\n",
        "if age >= 18:\n",
        "    print(\"You can vote.\")   # runs if condition True\n",
        "elif age == 17:\n",
        "    print(\"You can register soon.\")  # runs if first False, this True\n",
        "else:\n",
        "    print(\"You are too young to vote.\")  # runs if all conditions False"
      ],
      "metadata": {
        "colab": {
          "base_uri": "https://localhost:8080/"
        },
        "id": "YdC7AfA55qYK",
        "outputId": "507a9e9f-86ca-49d3-faed-ec848487c680"
      },
      "execution_count": null,
      "outputs": [
        {
          "output_type": "stream",
          "name": "stdout",
          "text": [
            "You can register soon.\n"
          ]
        }
      ]
    },
    {
      "cell_type": "markdown",
      "source": [
        "12. How does the elif statement work?\n",
        "  - elif means “else if”\n",
        "  - The elif statement lets you check multiple conditions one by one and runs only the first block where the condition is True.\n"
      ],
      "metadata": {
        "id": "SRmduBY15uWI"
      }
    },
    {
      "cell_type": "code",
      "source": [
        "if condition1:\n",
        "    # Code if condition1 is True\n",
        "elif condition2:\n",
        "    # Code if condition1 is False and condition2 is True\n",
        "elif condition3:\n",
        "    # Code if previous conditions are False and condition3 is True\n",
        "else:\n",
        "    # Code if all conditions are False"
      ],
      "metadata": {
        "id": "TOWi-J0C7Lg7"
      },
      "execution_count": null,
      "outputs": []
    },
    {
      "cell_type": "code",
      "source": [
        "marks = 90\n",
        "\n",
        "if marks >= 90:\n",
        "    print(\"Grade: A\")\n",
        "elif marks >= 75:\n",
        "    print(\"Grade: B\")\n",
        "elif marks >= 50:\n",
        "    print(\"Grade: C\")\n",
        "else:\n",
        "    print(\"Grade: F\")"
      ],
      "metadata": {
        "colab": {
          "base_uri": "https://localhost:8080/"
        },
        "id": "W9Ha2gK87Qdq",
        "outputId": "a1f02107-381a-4e83-cb7d-0eedb1baed80"
      },
      "execution_count": null,
      "outputs": [
        {
          "output_type": "stream",
          "name": "stdout",
          "text": [
            "Grade: A\n"
          ]
        }
      ]
    },
    {
      "cell_type": "markdown",
      "source": [
        "13. What is the difference between for and while loops?\n",
        "  - Use FOR when you know how many times to loop or iterate over a sequence; use WHILE when you want to keep looping until a condition is no longer true."
      ],
      "metadata": {
        "id": "tikvBk3X76i9"
      }
    },
    {
      "cell_type": "code",
      "source": [
        "# for loop\n",
        "for i in range(5):  # Loop 5 times\n",
        "    print(\"Hello\", i)"
      ],
      "metadata": {
        "colab": {
          "base_uri": "https://localhost:8080/"
        },
        "id": "kg5ONWuV9cPn",
        "outputId": "20b97521-9baf-4bb1-9c71-548143591345"
      },
      "execution_count": null,
      "outputs": [
        {
          "output_type": "stream",
          "name": "stdout",
          "text": [
            "Hello 0\n",
            "Hello 1\n",
            "Hello 2\n",
            "Hello 3\n",
            "Hello 4\n"
          ]
        }
      ]
    },
    {
      "cell_type": "code",
      "source": [
        "# while loop\n",
        "count = 0\n",
        "while count < 5:    # Loop until count reaches 5\n",
        "    print(\"Hello\", count)\n",
        "    count += 1"
      ],
      "metadata": {
        "colab": {
          "base_uri": "https://localhost:8080/"
        },
        "id": "oSHqi53a9tEK",
        "outputId": "fd3d71f0-76f1-4517-bf55-e9ff44328bc9"
      },
      "execution_count": null,
      "outputs": [
        {
          "output_type": "stream",
          "name": "stdout",
          "text": [
            "Hello 0\n",
            "Hello 1\n",
            "Hello 2\n",
            "Hello 3\n",
            "Hello 4\n"
          ]
        }
      ]
    },
    {
      "cell_type": "markdown",
      "source": [
        "14. Describe a scenario where a while loop is more suitable than a for loop?\n",
        "  - A while loop is more suitable when you need to repeat an action an unknown number of times until a condition changes — like waiting for user input, monitoring a sensor, or running until an “exit” signal.\n",
        "\n",
        "  - Scenario: Waiting for User Input Until They Type “exit”\n",
        "  - You don’t know how many times the user will enter input, so you can’t predetermine the number of iterations.\n",
        "  - This is exactly where a while loop is more suitable than a for loop.\n"
      ],
      "metadata": {
        "id": "JU7ivXdS-aKn"
      }
    },
    {
      "cell_type": "code",
      "source": [
        "user_input = \"\"\n",
        "\n",
        "while user_input != \"exit\":          # Keep looping until user types \"exit\"\n",
        "    user_input = input(\"Type something (or 'exit' to quit): \")\n",
        "    print(\"You typed:\", user_input)\n",
        "\n",
        "print(\"Loop ended.\")"
      ],
      "metadata": {
        "id": "0OuDbqud_76e"
      },
      "execution_count": null,
      "outputs": []
    },
    {
      "cell_type": "markdown",
      "source": [
        "Practical Questions"
      ],
      "metadata": {
        "id": "uY-wj1J3__fr"
      }
    },
    {
      "cell_type": "markdown",
      "source": [
        "1. Write a Python program to print \"Hello, World!\"?"
      ],
      "metadata": {
        "id": "mBgapw-ZAC4F"
      }
    },
    {
      "cell_type": "code",
      "source": [
        "print(\"Hello, World!\")"
      ],
      "metadata": {
        "colab": {
          "base_uri": "https://localhost:8080/"
        },
        "id": "S76PZAPDAOJe",
        "outputId": "d9d90224-6d35-48a0-a534-1ed83ae39ae5"
      },
      "execution_count": null,
      "outputs": [
        {
          "output_type": "stream",
          "name": "stdout",
          "text": [
            "Hello, World!\n"
          ]
        }
      ]
    },
    {
      "cell_type": "markdown",
      "source": [
        "2. Write a Python program that displays your name and age?"
      ],
      "metadata": {
        "id": "EW-9zchRAeUF"
      }
    },
    {
      "cell_type": "code",
      "source": [
        "Name = \"Ravi Prakash\"\n",
        "Age = 28\n",
        "\n",
        "print(\"My name is {} and my age is {}\".format(Name,Age))"
      ],
      "metadata": {
        "colab": {
          "base_uri": "https://localhost:8080/"
        },
        "id": "Fq2dBySCBBSt",
        "outputId": "e1d89322-ad6a-4c5a-e3ee-622b4b7498f7"
      },
      "execution_count": null,
      "outputs": [
        {
          "output_type": "stream",
          "name": "stdout",
          "text": [
            "My name is Ravi Prakash and my age is 28\n"
          ]
        }
      ]
    },
    {
      "cell_type": "markdown",
      "source": [
        "3. Write code to print all the pre-defined keywords in Python using the keyword library?"
      ],
      "metadata": {
        "id": "f-VTyQzVBluq"
      }
    },
    {
      "cell_type": "code",
      "source": [
        "# Program to print all pre-defined keywords in Python\n",
        "import keyword   # Import the keyword module\n",
        "\n",
        "# Print the list of keywords\n",
        "print(\"Python Keywords are:\")\n",
        "print(keyword.kwlist)  # Print all keywords"
      ],
      "metadata": {
        "colab": {
          "base_uri": "https://localhost:8080/"
        },
        "id": "wHI3wp4fBplG",
        "outputId": "c11fcf11-1cb8-4492-ca06-c47f643fe374"
      },
      "execution_count": null,
      "outputs": [
        {
          "output_type": "stream",
          "name": "stdout",
          "text": [
            "Python Keywords are:\n",
            "['False', 'None', 'True', 'and', 'as', 'assert', 'async', 'await', 'break', 'class', 'continue', 'def', 'del', 'elif', 'else', 'except', 'finally', 'for', 'from', 'global', 'if', 'import', 'in', 'is', 'lambda', 'nonlocal', 'not', 'or', 'pass', 'raise', 'return', 'try', 'while', 'with', 'yield']\n"
          ]
        }
      ]
    },
    {
      "cell_type": "markdown",
      "source": [
        "4. Write a program that checks if a given word is a Python keyword?"
      ],
      "metadata": {
        "id": "ISz-jLHFCUK9"
      }
    },
    {
      "cell_type": "code",
      "source": [
        "# Ask user for a word\n",
        "word = input(\"Enter a word: \")\n",
        "\n",
        "# Check if it’s a keyword\n",
        "if keyword.iskeyword(word):\n",
        "    print(f\"'{word}' is a Python keyword.\")\n",
        "else:\n",
        "    print(f\"'{word}' is NOT a Python keyword.\")"
      ],
      "metadata": {
        "colab": {
          "base_uri": "https://localhost:8080/"
        },
        "id": "hCwWhmYLCUyu",
        "outputId": "2d8b5d07-3087-4877-e733-00e4ee8d4631"
      },
      "execution_count": null,
      "outputs": [
        {
          "output_type": "stream",
          "name": "stdout",
          "text": [
            "Enter a word: class\n",
            "'class' is a Python keyword.\n"
          ]
        }
      ]
    },
    {
      "cell_type": "markdown",
      "source": [
        "5. Create a list and tuple in Python, and demonstrate how attempting to change an element works differently\n",
        "for each."
      ],
      "metadata": {
        "id": "SM04Z1jHwS63"
      }
    },
    {
      "cell_type": "code",
      "source": [
        "# Create a list (mutable)\n",
        "my_list = [50, 100, 150]\n",
        "print(\"Original list:\", my_list)"
      ],
      "metadata": {
        "colab": {
          "base_uri": "https://localhost:8080/"
        },
        "id": "XiLC84v8wX1Q",
        "outputId": "4aefd372-e1a5-4831-81a1-ebed00f6e097"
      },
      "execution_count": 3,
      "outputs": [
        {
          "output_type": "stream",
          "name": "stdout",
          "text": [
            "Original list: [50, 100, 150]\n"
          ]
        }
      ]
    },
    {
      "cell_type": "code",
      "source": [
        "# Change an element in the list\n",
        "my_list[1] = 200\n",
        "print(\"List after modification:\", my_list)"
      ],
      "metadata": {
        "colab": {
          "base_uri": "https://localhost:8080/"
        },
        "id": "BKLbDUJGw-X8",
        "outputId": "b4871ae9-01e3-4608-f2e1-629e65fc2124"
      },
      "execution_count": 5,
      "outputs": [
        {
          "output_type": "stream",
          "name": "stdout",
          "text": [
            "List after modification: [50, 200, 150]\n"
          ]
        }
      ]
    },
    {
      "cell_type": "code",
      "source": [
        "# Create a tuple (immutable)\n",
        "my_tuple = (50, 100, 150)\n",
        "print(\"\\nOriginal tuple:\", my_tuple)"
      ],
      "metadata": {
        "colab": {
          "base_uri": "https://localhost:8080/"
        },
        "id": "kYPxvVOzxVuw",
        "outputId": "483b929a-7f7b-4ffe-87c2-4117cbfd8c0d"
      },
      "execution_count": 6,
      "outputs": [
        {
          "output_type": "stream",
          "name": "stdout",
          "text": [
            "\n",
            "Original tuple: (50, 100, 150)\n"
          ]
        }
      ]
    },
    {
      "cell_type": "code",
      "source": [
        "# Attempt to change an element in the tuple\n",
        "try:\n",
        "    my_tuple[1] = 200\n",
        "except TypeError as e:\n",
        "    print(\"Error when trying to modify tuple:\", e)"
      ],
      "metadata": {
        "colab": {
          "base_uri": "https://localhost:8080/"
        },
        "id": "6Or1FIhDxoMW",
        "outputId": "61b5c416-6a00-4f83-f0a3-d7e43e4bc8d7"
      },
      "execution_count": 8,
      "outputs": [
        {
          "output_type": "stream",
          "name": "stdout",
          "text": [
            "Error when trying to modify tuple: 'tuple' object does not support item assignment\n"
          ]
        }
      ]
    },
    {
      "cell_type": "markdown",
      "source": [
        "6. Write a function to demonstrate the behavior of mutable and immutable arguments?"
      ],
      "metadata": {
        "id": "zsDbUWWHyf9p"
      }
    },
    {
      "cell_type": "code",
      "source": [
        "# Function to demonstrate mutable vs immutable behavior\n",
        "def modify_values(num, my_list):\n",
        "    print(\"\\nInside function before change:\")\n",
        "    print(\"num =\", num)\n",
        "    print(\"my_list =\", my_list)\n",
        "\n",
        "    # Try to change the immutable argument (int)\n",
        "    num += 25  # Creates a new integer object\n",
        "\n",
        "\n",
        "    # Try to change the mutable argument (list)\n",
        "    my_list.append(100)  # Modifies the same list object\n",
        "\n",
        "\n",
        "    print(\"\\nInside function after change:\")\n",
        "    print(\"num =\", num)\n",
        "    print(\"my_list =\", my_list)\n",
        "\n",
        "\n",
        "# Main program\n",
        "# Immutable object\n",
        "number = 11\n",
        "# Mutable object\n",
        "numbers_list = [10, 20, 30]\n",
        "\n",
        "print(\"Before calling function:\")\n",
        "print(\"number =\", number)\n",
        "print(\"numbers_list =\", numbers_list)\n",
        "\n",
        "# Call the function\n",
        "modify_values(number, numbers_list)\n",
        "\n",
        "print(\"\\nAfter calling function:\")\n",
        "print(\"number =\", number)          # unchanged\n",
        "print(\"numbers_list =\", numbers_list)  # changed"
      ],
      "metadata": {
        "colab": {
          "base_uri": "https://localhost:8080/"
        },
        "id": "czs3_IbC0LK7",
        "outputId": "000c40e0-0b85-4a89-e69a-dd67170274c2"
      },
      "execution_count": 13,
      "outputs": [
        {
          "output_type": "stream",
          "name": "stdout",
          "text": [
            "Before calling function:\n",
            "number = 11\n",
            "numbers_list = [10, 20, 30]\n",
            "\n",
            "Inside function before change:\n",
            "num = 11\n",
            "my_list = [10, 20, 30]\n",
            "\n",
            "Inside function after change:\n",
            "num = 36\n",
            "my_list = [10, 20, 30, 100]\n",
            "\n",
            "After calling function:\n",
            "number = 11\n",
            "numbers_list = [10, 20, 30, 100]\n"
          ]
        }
      ]
    },
    {
      "cell_type": "markdown",
      "source": [
        "7. Write a program that performs basic arithmetic operations on two user-input numbers?"
      ],
      "metadata": {
        "id": "_o0lWFch1ZAi"
      }
    },
    {
      "cell_type": "code",
      "source": [
        "# Program to perform basic arithmetic operations on two numbers\n",
        "\n",
        "# Take input from the user\n",
        "num1 = float(input(\"Enter the first number: \"))\n",
        "num2 = float(input(\"Enter the second number: \"))\n",
        "\n",
        "addition = num1 + num2\n",
        "subtraction = num1 - num2\n",
        "multiplication = num1 * num2\n",
        "\n",
        "if num2 != 0:\n",
        "    division = num1 / num2\n",
        "else:\n",
        "    division = \"Undefined (cannot divide by zero)\"\n",
        "\n",
        "print(\"\\nResults:\")\n",
        "print(\"Addition:\", addition)\n",
        "print(\"Subtraction:\", subtraction)\n",
        "print(\"Multiplication:\", multiplication)\n",
        "print(\"Division:\", division)"
      ],
      "metadata": {
        "colab": {
          "base_uri": "https://localhost:8080/"
        },
        "id": "RkAYWmwC1hoD",
        "outputId": "f3010bf8-2ba4-4cdc-ba6e-999815f8ce44"
      },
      "execution_count": 17,
      "outputs": [
        {
          "output_type": "stream",
          "name": "stdout",
          "text": [
            "Enter the first number: 20\n",
            "Enter the second number: 10\n",
            "\n",
            "Results:\n",
            "Addition: 30.0\n",
            "Subtraction: 10.0\n",
            "Multiplication: 200.0\n",
            "Division: 2.0\n"
          ]
        }
      ]
    },
    {
      "cell_type": "markdown",
      "source": [
        "8.  Write a program to demonstrate the use of logical operators?"
      ],
      "metadata": {
        "id": "ItaVltGX26IR"
      }
    },
    {
      "cell_type": "code",
      "source": [
        "# Program to demonstrate the use of logical operators\n",
        "\n",
        "# Take input from the user\n",
        "age = int(input(\"Enter your age: \"))\n",
        "has_ticket = input(\"Do you have a ticket? (yes/no): \").lower() == \"yes\"\n",
        "\n",
        "# Demonstrate 'and' operator\n",
        "if age >= 18 and has_ticket:\n",
        "    print(\"\\nYou are allowed entry (both conditions are True).\")\n",
        "else:\n",
        "    print(\"\\nYou are NOT allowed entry (one or both conditions are False).\")\n",
        "\n",
        "# Demonstrate 'or' operator\n",
        "if age >= 18 or has_ticket:\n",
        "    print(\"You meet at least one condition (age OR ticket).\")\n",
        "else:\n",
        "    print(\"You meet none of the conditions (age AND ticket both fail).\")\n",
        "\n",
        "# Demonstrate 'not' operator\n",
        "if not has_ticket:\n",
        "    print(\"You do NOT have a ticket.\")\n",
        "else:\n",
        "    print(\"You have a ticket.\")"
      ],
      "metadata": {
        "colab": {
          "base_uri": "https://localhost:8080/"
        },
        "id": "l_P5vky528yy",
        "outputId": "f055ea63-cb92-4b6b-d43a-71a5a1a2b88a"
      },
      "execution_count": 18,
      "outputs": [
        {
          "output_type": "stream",
          "name": "stdout",
          "text": [
            "Enter your age: 24\n",
            "Do you have a ticket? (yes/no): Yes\n",
            "\n",
            "You are allowed entry (both conditions are True).\n",
            "You meet at least one condition (age OR ticket).\n",
            "You have a ticket.\n"
          ]
        }
      ]
    },
    {
      "cell_type": "markdown",
      "source": [
        "9. Write a Python program to convert user input from string to integer, float, and boolean types?"
      ],
      "metadata": {
        "id": "T-4JAjs_3mYW"
      }
    },
    {
      "cell_type": "code",
      "source": [
        "# Program to convert user input from string to integer, float, and boolean\n",
        "\n",
        "# Take input from the user (always comes as a string)\n",
        "user_input = input(\"Enter a value: \")\n",
        "\n",
        "print(\"\\nOriginal input (string):\", user_input)\n",
        "\n",
        "# Convert to integer\n",
        "try:\n",
        "    int_value = int(user_input)\n",
        "    print(\"As Integer:\", int_value)\n",
        "except ValueError:\n",
        "    print(\"As Integer: Cannot convert to integer\")\n",
        "\n",
        "# Convert to float\n",
        "try:\n",
        "    float_value = float(user_input)\n",
        "    print(\"As Float:\", float_value)\n",
        "except ValueError:\n",
        "    print(\"As Float: Cannot convert to float\")\n",
        "\n",
        "# Convert to boolean\n",
        "bool_value = bool(user_input)\n",
        "print(\"As Boolean:\", bool_value)"
      ],
      "metadata": {
        "colab": {
          "base_uri": "https://localhost:8080/"
        },
        "id": "pXwG6Onw3sw7",
        "outputId": "091e3e1b-3db6-4b5c-bb8f-f31f969905a5"
      },
      "execution_count": 23,
      "outputs": [
        {
          "output_type": "stream",
          "name": "stdout",
          "text": [
            "Enter a value: 25\n",
            "\n",
            "Original input (string): 25\n",
            "As Integer: 25\n",
            "As Float: 25.0\n",
            "As Boolean: True\n"
          ]
        }
      ]
    },
    {
      "cell_type": "markdown",
      "source": [
        "10. Write code to demonstrate type casting with list elements?"
      ],
      "metadata": {
        "id": "my8iGKAQ4tBT"
      }
    },
    {
      "cell_type": "code",
      "source": [
        "# Program to demonstrate type casting with list elements\n",
        "\n",
        "str_numbers = [\"10\", \"20\", \"30\", \"40\"]\n",
        "print(\"Original list (strings):\", str_numbers)\n",
        "\n",
        "int_numbers = [int(num) for num in str_numbers]\n",
        "print(\"List after converting to integers:\", int_numbers)\n",
        "\n",
        "float_numbers = [float(num) for num in str_numbers]\n",
        "print(\"List after converting to floats:\", float_numbers)\n",
        "\n",
        "bool_numbers = [bool(num) for num in str_numbers]\n",
        "print(\"List after converting to booleans:\", bool_numbers)"
      ],
      "metadata": {
        "colab": {
          "base_uri": "https://localhost:8080/"
        },
        "id": "UMhzj2Cr40E5",
        "outputId": "34b29554-8ac1-4988-98ef-bbf0e271ec88"
      },
      "execution_count": 25,
      "outputs": [
        {
          "output_type": "stream",
          "name": "stdout",
          "text": [
            "Original list (strings): ['10', '20', '30', '40']\n",
            "List after converting to integers: [10, 20, 30, 40]\n",
            "List after converting to floats: [10.0, 20.0, 30.0, 40.0]\n",
            "List after converting to booleans: [True, True, True, True]\n"
          ]
        }
      ]
    },
    {
      "cell_type": "markdown",
      "source": [
        "11. Write a program that checks if a number is positive, negative, or zero?"
      ],
      "metadata": {
        "id": "FeqyZQwO5tWx"
      }
    },
    {
      "cell_type": "code",
      "source": [
        "# Program to check if a number is positive, negative, or zero\n",
        "\n",
        "# Take input from the user\n",
        "num = float(input(\"Enter a number: \"))\n",
        "\n",
        "if num > 0:\n",
        "    print(\"The number is positive.\")\n",
        "elif num < 0:\n",
        "    print(\"The number is negative.\")\n",
        "else:\n",
        "    print(\"The number is zero.\")"
      ],
      "metadata": {
        "colab": {
          "base_uri": "https://localhost:8080/"
        },
        "id": "WXT30Bd05wa2",
        "outputId": "527825a6-b142-4c12-f06c-fd368030ceee"
      },
      "execution_count": 29,
      "outputs": [
        {
          "output_type": "stream",
          "name": "stdout",
          "text": [
            "Enter a number: 0\n",
            "The number is zero.\n"
          ]
        }
      ]
    },
    {
      "cell_type": "markdown",
      "source": [
        "12. Write a for loop to print numbers from 1 to 10?"
      ],
      "metadata": {
        "id": "D9smnngx6saf"
      }
    },
    {
      "cell_type": "code",
      "source": [
        "# Program to print numbers from 1 to 10 using a for loop\n",
        "\n",
        "for i in range(1, 11):\n",
        "    print(i)"
      ],
      "metadata": {
        "colab": {
          "base_uri": "https://localhost:8080/"
        },
        "id": "RJshywq86vFV",
        "outputId": "99be6541-5839-4247-e560-a3f273ec2713"
      },
      "execution_count": 30,
      "outputs": [
        {
          "output_type": "stream",
          "name": "stdout",
          "text": [
            "1\n",
            "2\n",
            "3\n",
            "4\n",
            "5\n",
            "6\n",
            "7\n",
            "8\n",
            "9\n",
            "10\n"
          ]
        }
      ]
    },
    {
      "cell_type": "markdown",
      "source": [
        "13. Write a Python program to find the sum of all even numbers between 1 and 50?"
      ],
      "metadata": {
        "id": "ZT473gIY65gU"
      }
    },
    {
      "cell_type": "code",
      "source": [
        "# Program to find the sum of all even numbers between 1 and 50\n",
        "\n",
        "sum_even = 0\n",
        "\n",
        "for i in range(1, 51):\n",
        "    if i % 2 == 0:\n",
        "        sum_even += i\n",
        "\n",
        "print(\"The sum of all even numbers between 1 and 50 is:\", sum_even)"
      ],
      "metadata": {
        "colab": {
          "base_uri": "https://localhost:8080/"
        },
        "id": "BjUbvwSx7Leo",
        "outputId": "608279b6-0691-4207-ce27-caeb722a981c"
      },
      "execution_count": 32,
      "outputs": [
        {
          "output_type": "stream",
          "name": "stdout",
          "text": [
            "The sum of all even numbers between 1 and 50 is: 650\n"
          ]
        }
      ]
    },
    {
      "cell_type": "markdown",
      "source": [
        "14. Write a program to reverse a string using a while loop?"
      ],
      "metadata": {
        "id": "-YlvbhFy7zL5"
      }
    },
    {
      "cell_type": "code",
      "source": [
        "# Program to reverse a string using a while loop\n",
        "\n",
        "text = input(\"Enter a string: \")\n",
        "\n",
        "reversed_text = \"\"\n",
        "index = len(text) - 1\n",
        "\n",
        "while index >= 0:\n",
        "    reversed_text += text[index]\n",
        "    index -= 1\n",
        "\n",
        "print(\"Reversed string:\", reversed_text)"
      ],
      "metadata": {
        "colab": {
          "base_uri": "https://localhost:8080/"
        },
        "id": "JOILTVm_71H-",
        "outputId": "a8c6c08c-9885-4e37-997a-454104bb6e8e"
      },
      "execution_count": 34,
      "outputs": [
        {
          "output_type": "stream",
          "name": "stdout",
          "text": [
            "Enter a string: Prakash\n",
            "Reversed string: hsakarP\n"
          ]
        }
      ]
    },
    {
      "cell_type": "markdown",
      "source": [
        "15. Write a Python program to calculate the factorial of a number provided by the user using a while loop?"
      ],
      "metadata": {
        "id": "2SwyYqXJ8fMh"
      }
    },
    {
      "cell_type": "code",
      "source": [
        "# Program to calculate factorial using a while loop\n",
        "\n",
        "# Take input from the user\n",
        "num = int(input(\"Enter a non-negative integer: \"))\n",
        "\n",
        "# Initialize variables\n",
        "factorial = 1\n",
        "i = 1\n",
        "\n",
        "# Factorial of 0 or 1 is 1\n",
        "if num < 0:\n",
        "    print(\"Factorial is not defined for negative numbers.\")\n",
        "else:\n",
        "    while i <= num:\n",
        "        factorial *= i\n",
        "        i += 1\n",
        "    print(f\"The factorial of {num} is {factorial}\")"
      ],
      "metadata": {
        "colab": {
          "base_uri": "https://localhost:8080/"
        },
        "id": "9y9VujDa8qOc",
        "outputId": "b7d25f0a-c6cf-4aed-87c5-99e8737d95f4"
      },
      "execution_count": 36,
      "outputs": [
        {
          "output_type": "stream",
          "name": "stdout",
          "text": [
            "Enter a non-negative integer: 5\n",
            "The factorial of 5 is 120\n"
          ]
        }
      ]
    }
  ]
}